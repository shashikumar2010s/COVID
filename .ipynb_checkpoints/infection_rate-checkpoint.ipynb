{
 "cells": [
  {
   "cell_type": "code",
   "execution_count": 484,
   "metadata": {},
   "outputs": [],
   "source": [
    "import numpy as np\n",
    "import pandas as pd\n",
    "from google.cloud import bigquery\n",
    "from pandas import ExcelWriter"
   ]
  },
  {
   "cell_type": "code",
   "execution_count": 485,
   "metadata": {},
   "outputs": [],
   "source": [
    "# %load_ext google.cloud.bigquery"
   ]
  },
  {
   "cell_type": "code",
   "execution_count": 486,
   "metadata": {},
   "outputs": [],
   "source": [
    "# client = bigquery.Client()"
   ]
  },
  {
   "cell_type": "code",
   "execution_count": 487,
   "metadata": {},
   "outputs": [],
   "source": [
    "# sql = \"\"\"SELECT * from covid19_open_data.infectionrate_vs_population where location_key=country_code\"\"\""
   ]
  },
  {
   "cell_type": "code",
   "execution_count": 488,
   "metadata": {},
   "outputs": [],
   "source": [
    "# df = client.query(sql).to_dataframe()"
   ]
  },
  {
   "cell_type": "code",
   "execution_count": 531,
   "metadata": {},
   "outputs": [
    {
     "data": {
      "text/html": [
       "<div>\n",
       "<style scoped>\n",
       "    .dataframe tbody tr th:only-of-type {\n",
       "        vertical-align: middle;\n",
       "    }\n",
       "\n",
       "    .dataframe tbody tr th {\n",
       "        vertical-align: top;\n",
       "    }\n",
       "\n",
       "    .dataframe thead th {\n",
       "        text-align: right;\n",
       "    }\n",
       "</style>\n",
       "<table border=\"1\" class=\"dataframe\">\n",
       "  <thead>\n",
       "    <tr style=\"text-align: right;\">\n",
       "      <th></th>\n",
       "      <th>date</th>\n",
       "      <th>location_key</th>\n",
       "      <th>country_code</th>\n",
       "      <th>country_name</th>\n",
       "      <th>subregion1_code</th>\n",
       "      <th>subregion1_name</th>\n",
       "      <th>subregion2_code</th>\n",
       "      <th>subregion2_name</th>\n",
       "      <th>aggregation_level</th>\n",
       "      <th>new_confirmed</th>\n",
       "      <th>cumulative_confirmed</th>\n",
       "      <th>population</th>\n",
       "      <th>new_tested</th>\n",
       "      <th>cumulative_tested</th>\n",
       "    </tr>\n",
       "  </thead>\n",
       "  <tbody>\n",
       "    <tr>\n",
       "      <th>0</th>\n",
       "      <td>2020-10-14</td>\n",
       "      <td>CM</td>\n",
       "      <td>CM</td>\n",
       "      <td>Cameroon</td>\n",
       "      <td>NaN</td>\n",
       "      <td>NaN</td>\n",
       "      <td>NaN</td>\n",
       "      <td>NaN</td>\n",
       "      <td>0</td>\n",
       "      <td>108.0</td>\n",
       "      <td>21441.0</td>\n",
       "      <td>25876380.0</td>\n",
       "      <td>NaN</td>\n",
       "      <td>NaN</td>\n",
       "    </tr>\n",
       "    <tr>\n",
       "      <th>1</th>\n",
       "      <td>2020-10-26</td>\n",
       "      <td>JO</td>\n",
       "      <td>JO</td>\n",
       "      <td>Jordan</td>\n",
       "      <td>NaN</td>\n",
       "      <td>NaN</td>\n",
       "      <td>NaN</td>\n",
       "      <td>NaN</td>\n",
       "      <td>0</td>\n",
       "      <td>1968.0</td>\n",
       "      <td>55055.0</td>\n",
       "      <td>10101694.0</td>\n",
       "      <td>NaN</td>\n",
       "      <td>NaN</td>\n",
       "    </tr>\n",
       "    <tr>\n",
       "      <th>2</th>\n",
       "      <td>2020-10-05</td>\n",
       "      <td>TH</td>\n",
       "      <td>TH</td>\n",
       "      <td>Thailand</td>\n",
       "      <td>NaN</td>\n",
       "      <td>NaN</td>\n",
       "      <td>NaN</td>\n",
       "      <td>NaN</td>\n",
       "      <td>0</td>\n",
       "      <td>10.0</td>\n",
       "      <td>3600.0</td>\n",
       "      <td>69625582.0</td>\n",
       "      <td>3697.0</td>\n",
       "      <td>1076332.0</td>\n",
       "    </tr>\n",
       "    <tr>\n",
       "      <th>3</th>\n",
       "      <td>2020-09-15</td>\n",
       "      <td>SK</td>\n",
       "      <td>SK</td>\n",
       "      <td>Slovakia</td>\n",
       "      <td>NaN</td>\n",
       "      <td>NaN</td>\n",
       "      <td>NaN</td>\n",
       "      <td>NaN</td>\n",
       "      <td>0</td>\n",
       "      <td>188.0</td>\n",
       "      <td>5768.0</td>\n",
       "      <td>5450421.0</td>\n",
       "      <td>4027.0</td>\n",
       "      <td>397513.0</td>\n",
       "    </tr>\n",
       "    <tr>\n",
       "      <th>4</th>\n",
       "      <td>2020-04-18</td>\n",
       "      <td>LK</td>\n",
       "      <td>LK</td>\n",
       "      <td>Sri Lanka</td>\n",
       "      <td>NaN</td>\n",
       "      <td>NaN</td>\n",
       "      <td>NaN</td>\n",
       "      <td>NaN</td>\n",
       "      <td>0</td>\n",
       "      <td>10.0</td>\n",
       "      <td>254.0</td>\n",
       "      <td>21803000.0</td>\n",
       "      <td>702.0</td>\n",
       "      <td>10494.0</td>\n",
       "    </tr>\n",
       "    <tr>\n",
       "      <th>...</th>\n",
       "      <td>...</td>\n",
       "      <td>...</td>\n",
       "      <td>...</td>\n",
       "      <td>...</td>\n",
       "      <td>...</td>\n",
       "      <td>...</td>\n",
       "      <td>...</td>\n",
       "      <td>...</td>\n",
       "      <td>...</td>\n",
       "      <td>...</td>\n",
       "      <td>...</td>\n",
       "      <td>...</td>\n",
       "      <td>...</td>\n",
       "      <td>...</td>\n",
       "    </tr>\n",
       "    <tr>\n",
       "      <th>77059</th>\n",
       "      <td>2020-05-10</td>\n",
       "      <td>LU</td>\n",
       "      <td>LU</td>\n",
       "      <td>Luxembourg</td>\n",
       "      <td>NaN</td>\n",
       "      <td>NaN</td>\n",
       "      <td>NaN</td>\n",
       "      <td>NaN</td>\n",
       "      <td>0</td>\n",
       "      <td>9.0</td>\n",
       "      <td>3886.0</td>\n",
       "      <td>613894.0</td>\n",
       "      <td>1.0</td>\n",
       "      <td>3124.0</td>\n",
       "    </tr>\n",
       "    <tr>\n",
       "      <th>77060</th>\n",
       "      <td>2020-07-30</td>\n",
       "      <td>TD</td>\n",
       "      <td>TD</td>\n",
       "      <td>Chad</td>\n",
       "      <td>NaN</td>\n",
       "      <td>NaN</td>\n",
       "      <td>NaN</td>\n",
       "      <td>NaN</td>\n",
       "      <td>0</td>\n",
       "      <td>9.0</td>\n",
       "      <td>935.0</td>\n",
       "      <td>15946876.0</td>\n",
       "      <td>NaN</td>\n",
       "      <td>NaN</td>\n",
       "    </tr>\n",
       "    <tr>\n",
       "      <th>77061</th>\n",
       "      <td>2020-05-31</td>\n",
       "      <td>SL</td>\n",
       "      <td>SL</td>\n",
       "      <td>Sierra Leone</td>\n",
       "      <td>NaN</td>\n",
       "      <td>NaN</td>\n",
       "      <td>NaN</td>\n",
       "      <td>NaN</td>\n",
       "      <td>0</td>\n",
       "      <td>9.0</td>\n",
       "      <td>861.0</td>\n",
       "      <td>7813215.0</td>\n",
       "      <td>NaN</td>\n",
       "      <td>NaN</td>\n",
       "    </tr>\n",
       "    <tr>\n",
       "      <th>77062</th>\n",
       "      <td>2020-03-24</td>\n",
       "      <td>KE</td>\n",
       "      <td>KE</td>\n",
       "      <td>Kenya</td>\n",
       "      <td>NaN</td>\n",
       "      <td>NaN</td>\n",
       "      <td>NaN</td>\n",
       "      <td>NaN</td>\n",
       "      <td>0</td>\n",
       "      <td>9.0</td>\n",
       "      <td>25.0</td>\n",
       "      <td>52573973.0</td>\n",
       "      <td>NaN</td>\n",
       "      <td>NaN</td>\n",
       "    </tr>\n",
       "    <tr>\n",
       "      <th>77063</th>\n",
       "      <td>2020-03-26</td>\n",
       "      <td>XK</td>\n",
       "      <td>XK</td>\n",
       "      <td>Kosovo</td>\n",
       "      <td>NaN</td>\n",
       "      <td>NaN</td>\n",
       "      <td>NaN</td>\n",
       "      <td>NaN</td>\n",
       "      <td>0</td>\n",
       "      <td>9.0</td>\n",
       "      <td>88.0</td>\n",
       "      <td>1883018.0</td>\n",
       "      <td>NaN</td>\n",
       "      <td>NaN</td>\n",
       "    </tr>\n",
       "  </tbody>\n",
       "</table>\n",
       "<p>77064 rows × 14 columns</p>\n",
       "</div>"
      ],
      "text/plain": [
       "            date location_key country_code  country_name  subregion1_code  \\\n",
       "0     2020-10-14           CM           CM      Cameroon              NaN   \n",
       "1     2020-10-26           JO           JO        Jordan              NaN   \n",
       "2     2020-10-05           TH           TH      Thailand              NaN   \n",
       "3     2020-09-15           SK           SK      Slovakia              NaN   \n",
       "4     2020-04-18           LK           LK     Sri Lanka              NaN   \n",
       "...          ...          ...          ...           ...              ...   \n",
       "77059 2020-05-10           LU           LU    Luxembourg              NaN   \n",
       "77060 2020-07-30           TD           TD          Chad              NaN   \n",
       "77061 2020-05-31           SL           SL  Sierra Leone              NaN   \n",
       "77062 2020-03-24           KE           KE         Kenya              NaN   \n",
       "77063 2020-03-26           XK           XK        Kosovo              NaN   \n",
       "\n",
       "       subregion1_name  subregion2_code  subregion2_name  aggregation_level  \\\n",
       "0                  NaN              NaN              NaN                  0   \n",
       "1                  NaN              NaN              NaN                  0   \n",
       "2                  NaN              NaN              NaN                  0   \n",
       "3                  NaN              NaN              NaN                  0   \n",
       "4                  NaN              NaN              NaN                  0   \n",
       "...                ...              ...              ...                ...   \n",
       "77059              NaN              NaN              NaN                  0   \n",
       "77060              NaN              NaN              NaN                  0   \n",
       "77061              NaN              NaN              NaN                  0   \n",
       "77062              NaN              NaN              NaN                  0   \n",
       "77063              NaN              NaN              NaN                  0   \n",
       "\n",
       "       new_confirmed  cumulative_confirmed  population  new_tested  \\\n",
       "0              108.0               21441.0  25876380.0         NaN   \n",
       "1             1968.0               55055.0  10101694.0         NaN   \n",
       "2               10.0                3600.0  69625582.0      3697.0   \n",
       "3              188.0                5768.0   5450421.0      4027.0   \n",
       "4               10.0                 254.0  21803000.0       702.0   \n",
       "...              ...                   ...         ...         ...   \n",
       "77059            9.0                3886.0    613894.0         1.0   \n",
       "77060            9.0                 935.0  15946876.0         NaN   \n",
       "77061            9.0                 861.0   7813215.0         NaN   \n",
       "77062            9.0                  25.0  52573973.0         NaN   \n",
       "77063            9.0                  88.0   1883018.0         NaN   \n",
       "\n",
       "       cumulative_tested  \n",
       "0                    NaN  \n",
       "1                    NaN  \n",
       "2              1076332.0  \n",
       "3               397513.0  \n",
       "4                10494.0  \n",
       "...                  ...  \n",
       "77059             3124.0  \n",
       "77060                NaN  \n",
       "77061                NaN  \n",
       "77062                NaN  \n",
       "77063                NaN  \n",
       "\n",
       "[77064 rows x 14 columns]"
      ]
     },
     "execution_count": 531,
     "metadata": {},
     "output_type": "execute_result"
    }
   ],
   "source": [
    "df_1 = pd.read_excel('infectionrate_vs_population.xlsx')\n",
    "df = df_1.drop(columns=['Unnamed: 0'])\n",
    "df"
   ]
  },
  {
   "cell_type": "code",
   "execution_count": 490,
   "metadata": {},
   "outputs": [],
   "source": [
    "# cur_dir = %pwd\n",
    "# data_path = cur_dir + '/data'"
   ]
  },
  {
   "cell_type": "code",
   "execution_count": 491,
   "metadata": {},
   "outputs": [],
   "source": [
    "# writer = ExcelWriter(data_path + \"/\" + \"infectionrate_vs_population.xlsx\")"
   ]
  },
  {
   "cell_type": "code",
   "execution_count": 492,
   "metadata": {},
   "outputs": [],
   "source": [
    "# df.to_excel(writer, sheet_name='Sheet1')\n",
    "# writer.save()"
   ]
  },
  {
   "cell_type": "code",
   "execution_count": 493,
   "metadata": {},
   "outputs": [
    {
     "name": "stdout",
     "output_type": "stream",
     "text": [
      "<class 'pandas.core.frame.DataFrame'>\n",
      "RangeIndex: 77064 entries, 0 to 77063\n",
      "Data columns (total 14 columns):\n",
      " #   Column                Non-Null Count  Dtype         \n",
      "---  ------                --------------  -----         \n",
      " 0   date                  77064 non-null  datetime64[ns]\n",
      " 1   location_key          76752 non-null  object        \n",
      " 2   country_code          76752 non-null  object        \n",
      " 3   country_name          77064 non-null  object        \n",
      " 4   subregion1_code       0 non-null      float64       \n",
      " 5   subregion1_name       0 non-null      float64       \n",
      " 6   subregion2_code       0 non-null      float64       \n",
      " 7   subregion2_name       0 non-null      float64       \n",
      " 8   aggregation_level     77064 non-null  int64         \n",
      " 9   new_confirmed         72059 non-null  float64       \n",
      " 10  cumulative_confirmed  72061 non-null  float64       \n",
      " 11  population            76440 non-null  float64       \n",
      " 12  new_tested            21569 non-null  float64       \n",
      " 13  cumulative_tested     21836 non-null  float64       \n",
      "dtypes: datetime64[ns](1), float64(9), int64(1), object(3)\n",
      "memory usage: 8.2+ MB\n"
     ]
    }
   ],
   "source": [
    "df.info()"
   ]
  },
  {
   "cell_type": "code",
   "execution_count": 494,
   "metadata": {},
   "outputs": [],
   "source": [
    "df_sml = df.drop(columns=['subregion1_code', 'subregion2_code', 'subregion2_name','subregion1_name'])"
   ]
  },
  {
   "cell_type": "code",
   "execution_count": 495,
   "metadata": {},
   "outputs": [
    {
     "data": {
      "text/plain": [
       "(77064, 10)"
      ]
     },
     "execution_count": 495,
     "metadata": {},
     "output_type": "execute_result"
    }
   ],
   "source": [
    "df_sml.shape"
   ]
  },
  {
   "cell_type": "code",
   "execution_count": 496,
   "metadata": {},
   "outputs": [],
   "source": [
    "kys = df_sml['location_key'].unique()\n",
    "vals = df_sml['country_name'].unique()\n",
    "# print(kys,vals,type(kys),type(vals))\n",
    "\n",
    "countries = dict(zip(kys, vals))"
   ]
  },
  {
   "cell_type": "code",
   "execution_count": 497,
   "metadata": {},
   "outputs": [
    {
     "name": "stdout",
     "output_type": "stream",
     "text": [
      "Total number of counties:  247\n",
      "Countries for which population data is not available:  ['Namibia' 'Svalbard and Jan Mayen']\n"
     ]
    }
   ],
   "source": [
    "# df_sml['population'].isnull()\n",
    "# Counties with population is not available\n",
    "check = df_sml[df_sml['population'].isna()]\n",
    "print(\"Total number of counties: \",df_sml['country_name'].nunique())\n",
    "print(\"Countries for which population data is not available: \",check['country_name'].unique())\n"
   ]
  },
  {
   "cell_type": "markdown",
   "metadata": {},
   "source": [
    "new_confirmed column has to be numerical and also zero is possible. Hence replacing nan with zero.\n",
    "\n",
    "2 counties has nan values in population. Hence dropping. Could not be found in external source. Namibia, Svalbard and Jan Mayen"
   ]
  },
  {
   "cell_type": "code",
   "execution_count": 498,
   "metadata": {},
   "outputs": [],
   "source": [
    "df_sml_nn = df_sml"
   ]
  },
  {
   "cell_type": "code",
   "execution_count": 499,
   "metadata": {},
   "outputs": [
    {
     "data": {
      "text/html": [
       "<div>\n",
       "<style scoped>\n",
       "    .dataframe tbody tr th:only-of-type {\n",
       "        vertical-align: middle;\n",
       "    }\n",
       "\n",
       "    .dataframe tbody tr th {\n",
       "        vertical-align: top;\n",
       "    }\n",
       "\n",
       "    .dataframe thead th {\n",
       "        text-align: right;\n",
       "    }\n",
       "</style>\n",
       "<table border=\"1\" class=\"dataframe\">\n",
       "  <thead>\n",
       "    <tr style=\"text-align: right;\">\n",
       "      <th></th>\n",
       "      <th>date</th>\n",
       "      <th>location_key</th>\n",
       "      <th>country_code</th>\n",
       "      <th>country_name</th>\n",
       "      <th>aggregation_level</th>\n",
       "      <th>new_confirmed</th>\n",
       "      <th>cumulative_confirmed</th>\n",
       "      <th>population</th>\n",
       "      <th>new_tested</th>\n",
       "      <th>cumulative_tested</th>\n",
       "    </tr>\n",
       "  </thead>\n",
       "  <tbody>\n",
       "    <tr>\n",
       "      <th>0</th>\n",
       "      <td>2020-10-14</td>\n",
       "      <td>CM</td>\n",
       "      <td>CM</td>\n",
       "      <td>Cameroon</td>\n",
       "      <td>0</td>\n",
       "      <td>108.0</td>\n",
       "      <td>21441.0</td>\n",
       "      <td>25876380</td>\n",
       "      <td>0</td>\n",
       "      <td>0</td>\n",
       "    </tr>\n",
       "    <tr>\n",
       "      <th>1</th>\n",
       "      <td>2020-10-26</td>\n",
       "      <td>JO</td>\n",
       "      <td>JO</td>\n",
       "      <td>Jordan</td>\n",
       "      <td>0</td>\n",
       "      <td>1968.0</td>\n",
       "      <td>55055.0</td>\n",
       "      <td>10101694</td>\n",
       "      <td>0</td>\n",
       "      <td>0</td>\n",
       "    </tr>\n",
       "    <tr>\n",
       "      <th>2</th>\n",
       "      <td>2020-10-05</td>\n",
       "      <td>TH</td>\n",
       "      <td>TH</td>\n",
       "      <td>Thailand</td>\n",
       "      <td>0</td>\n",
       "      <td>10.0</td>\n",
       "      <td>3600.0</td>\n",
       "      <td>69625582</td>\n",
       "      <td>3697</td>\n",
       "      <td>1076332</td>\n",
       "    </tr>\n",
       "    <tr>\n",
       "      <th>3</th>\n",
       "      <td>2020-09-15</td>\n",
       "      <td>SK</td>\n",
       "      <td>SK</td>\n",
       "      <td>Slovakia</td>\n",
       "      <td>0</td>\n",
       "      <td>188.0</td>\n",
       "      <td>5768.0</td>\n",
       "      <td>5450421</td>\n",
       "      <td>4027</td>\n",
       "      <td>397513</td>\n",
       "    </tr>\n",
       "    <tr>\n",
       "      <th>4</th>\n",
       "      <td>2020-04-18</td>\n",
       "      <td>LK</td>\n",
       "      <td>LK</td>\n",
       "      <td>Sri Lanka</td>\n",
       "      <td>0</td>\n",
       "      <td>10.0</td>\n",
       "      <td>254.0</td>\n",
       "      <td>21803000</td>\n",
       "      <td>702</td>\n",
       "      <td>10494</td>\n",
       "    </tr>\n",
       "  </tbody>\n",
       "</table>\n",
       "</div>"
      ],
      "text/plain": [
       "        date location_key country_code country_name  aggregation_level  \\\n",
       "0 2020-10-14           CM           CM     Cameroon                  0   \n",
       "1 2020-10-26           JO           JO       Jordan                  0   \n",
       "2 2020-10-05           TH           TH     Thailand                  0   \n",
       "3 2020-09-15           SK           SK     Slovakia                  0   \n",
       "4 2020-04-18           LK           LK    Sri Lanka                  0   \n",
       "\n",
       "   new_confirmed  cumulative_confirmed  population  new_tested  \\\n",
       "0          108.0               21441.0    25876380           0   \n",
       "1         1968.0               55055.0    10101694           0   \n",
       "2           10.0                3600.0    69625582        3697   \n",
       "3          188.0                5768.0     5450421        4027   \n",
       "4           10.0                 254.0    21803000         702   \n",
       "\n",
       "   cumulative_tested  \n",
       "0                  0  \n",
       "1                  0  \n",
       "2            1076332  \n",
       "3             397513  \n",
       "4              10494  "
      ]
     },
     "execution_count": 499,
     "metadata": {},
     "output_type": "execute_result"
    }
   ],
   "source": [
    "df_sml_nn[['new_confirmed']] = df_sml_nn['new_confirmed'].fillna(0)\n",
    "# filling na values in new_tested with zero\n",
    "df_sml_nn['new_tested'] = df_sml_nn['new_tested'].fillna(0)\n",
    "df_sml_nn['cumulative_tested'] = df_sml_nn['cumulative_tested'].fillna(0)\n",
    "df_sml_nn= df_sml_nn[df_sml_nn['population'].notna()]\n",
    "df_sml_nn = df_sml_nn.astype({\"population\":int, \"new_tested\":int, \"cumulative_tested\":int})\n",
    "df_sml_nn.head()"
   ]
  },
  {
   "cell_type": "code",
   "execution_count": 500,
   "metadata": {},
   "outputs": [
    {
     "name": "stdout",
     "output_type": "stream",
     "text": [
      "<class 'pandas.core.frame.DataFrame'>\n",
      "Int64Index: 76440 entries, 0 to 77063\n",
      "Data columns (total 10 columns):\n",
      " #   Column                Non-Null Count  Dtype         \n",
      "---  ------                --------------  -----         \n",
      " 0   date                  76440 non-null  datetime64[ns]\n",
      " 1   location_key          76440 non-null  object        \n",
      " 2   country_code          76440 non-null  object        \n",
      " 3   country_name          76440 non-null  object        \n",
      " 4   aggregation_level     76440 non-null  int64         \n",
      " 5   new_confirmed         76440 non-null  float64       \n",
      " 6   cumulative_confirmed  71751 non-null  float64       \n",
      " 7   population            76440 non-null  int64         \n",
      " 8   new_tested            76440 non-null  int64         \n",
      " 9   cumulative_tested     76440 non-null  int64         \n",
      "dtypes: datetime64[ns](1), float64(2), int64(4), object(3)\n",
      "memory usage: 6.4+ MB\n"
     ]
    }
   ],
   "source": [
    "df_sml_nn.info()"
   ]
  },
  {
   "cell_type": "code",
   "execution_count": 501,
   "metadata": {},
   "outputs": [],
   "source": [
    "df_pivot = df.pivot(index='date', columns=[\"location_key\"],values='new_confirmed')"
   ]
  },
  {
   "cell_type": "code",
   "execution_count": 502,
   "metadata": {},
   "outputs": [],
   "source": [
    "df_pivot = df_pivot[:-2]"
   ]
  },
  {
   "cell_type": "code",
   "execution_count": 503,
   "metadata": {},
   "outputs": [
    {
     "name": "stdout",
     "output_type": "stream",
     "text": [
      "countries having all NaN values in new_confirmed column: ['AN', 'AQ', 'BV', 'CC', 'CX', 'GS', 'GZ', 'HM', 'IO', 'NF', 'SJ', 'TF', 'UM']\n"
     ]
    }
   ],
   "source": [
    "df_pivot.shape\n",
    "all_nan_countries = []\n",
    "all_loc_keys = df_pivot.columns\n",
    "for key in all_loc_keys:\n",
    "    if df_pivot[key].isna().sum() == df_pivot.shape[0]:\n",
    "        all_nan_countries.append(key)\n",
    "print(f\"countries having all NaN values in new_confirmed column: {all_nan_countries}\")"
   ]
  },
  {
   "cell_type": "markdown",
   "metadata": {},
   "source": [
    "all new_confirmed values in 'AN', 'AQ', 'BV', 'CC', 'CX', 'GS', 'GZ', 'HM', 'IO', 'NF', 'SJ', 'TF', 'UM' are NaN. Hence dropping these columns"
   ]
  },
  {
   "cell_type": "code",
   "execution_count": 504,
   "metadata": {},
   "outputs": [],
   "source": [
    "all_loc_keys = df_pivot.columns\n",
    "len_keys = len(all_loc_keys)\n",
    "df_clean = df_pivot\n",
    "for key in all_loc_keys:\n",
    "    if df_clean[key].isna().sum() == df_clean.shape[0]:\n",
    "        df_clean = df_clean.drop(columns=key)"
   ]
  },
  {
   "cell_type": "code",
   "execution_count": 505,
   "metadata": {},
   "outputs": [],
   "source": [
    "df_cleaned = df_clean.fillna(0)"
   ]
  },
  {
   "cell_type": "code",
   "execution_count": 506,
   "metadata": {},
   "outputs": [],
   "source": [
    "df_pivot_tested = df.pivot(index='date', columns=[\"location_key\"],values='new_tested')"
   ]
  },
  {
   "cell_type": "code",
   "execution_count": 507,
   "metadata": {},
   "outputs": [
    {
     "name": "stdout",
     "output_type": "stream",
     "text": [
      "countries having all NaN values in new_tested column: ['AD', 'AF', 'AG', 'AI', 'AL', 'AM', 'AN', 'AO', 'AQ', 'AS', 'AW', 'AZ', 'BA', 'BB', 'BF', 'BI', 'BJ', 'BM', 'BN', 'BQ', 'BR', 'BS', 'BT', 'BV', 'BW', 'BZ', 'CC', 'CF', 'CG', 'CK', 'CM', 'CN', 'CV', 'CW', 'CX', 'DE', 'DJ', 'DM', 'DZ', 'EG', 'EH', 'ER', 'ES', 'FK', 'FM', 'FO', 'GA', 'GD', 'GE', 'GF', 'GG', 'GI', 'GL', 'GM', 'GN', 'GQ', 'GS', 'GU', 'GW', 'GY', 'GZ', 'HK', 'HM', 'HN', 'HT', 'IM', 'IO', 'JE', 'KG', 'KH', 'KI', 'KM', 'KN', 'KP', 'KY', 'LA', 'LB', 'LC', 'LR', 'LS', 'MC', 'MD', 'ME', 'MH', 'ML', 'MN', 'MO', 'MP', 'MQ', 'MS', 'MU', 'NC', 'NE', 'NF', 'NI', 'NL', 'NR', 'NU', 'PF', 'PG', 'PN', 'PR', 'PW', 'RE', 'SB', 'SC', 'SD', 'SG', 'SH', 'SJ', 'SL', 'SM', 'SO', 'SR', 'SS', 'ST', 'SX', 'SY', 'SZ', 'TC', 'TD', 'TF', 'TJ', 'TK', 'TL', 'TM', 'TO', 'TT', 'TV', 'TZ', 'UM', 'UZ', 'VA', 'VC', 'VE', 'VG', 'VI', 'VU', 'WF', 'WS', 'XK', 'YE', 'YT'] count:143\n"
     ]
    }
   ],
   "source": [
    "df_pivot_tested.shape\n",
    "all_nan_countries_tested = []\n",
    "all_loc_keys = df_pivot_tested.columns\n",
    "for key in all_loc_keys:\n",
    "    if df_pivot_tested[key].isna().sum() == df_pivot_tested.shape[0]:\n",
    "        all_nan_countries_tested.append(key)\n",
    "print(f\"countries having all NaN values in new_tested column: {all_nan_countries_tested} count:{len(all_nan_countries_tested)}\")"
   ]
  },
  {
   "cell_type": "markdown",
   "metadata": {},
   "source": [
    "countries having all NaN values in new_confirmed column: ['AD', 'AF', 'AG', 'AI', 'AL', 'AM', 'AN', 'AO', 'AQ', 'AS', 'AW', 'AZ', 'BA', 'BB', 'BF', 'BI', 'BJ', 'BM', 'BN', 'BQ', 'BR', 'BS', 'BT', 'BV', 'BW', 'BZ', 'CC', 'CF', 'CG', 'CK', 'CM', 'CN', 'CV', 'CW', 'CX', 'DE', 'DJ', 'DM', 'DZ', 'EG', 'EH', 'ER', 'ES', 'FK', 'FM', 'FO', 'GA', 'GD', 'GE', 'GF', 'GG', 'GI', 'GL', 'GM', 'GN', 'GQ', 'GS', 'GU', 'GW', 'GY', 'GZ', 'HK', 'HM', 'HN', 'HT', 'IM', 'IO', 'JE', 'KG', 'KH', 'KI', 'KM', 'KN', 'KP', 'KY', 'LA', 'LB', 'LC', 'LR', 'LS', 'MC', 'MD', 'ME', 'MH', 'ML', 'MN', 'MO', 'MP', 'MQ', 'MS', 'MU', 'NC', 'NE', 'NF', 'NI', 'NL', 'NR', 'NU', 'PF', 'PG', 'PN', 'PR', 'PW', 'RE', 'SB', 'SC', 'SD', 'SG', 'SH', 'SJ', 'SL', 'SM', 'SO', 'SR', 'SS', 'ST', 'SX', 'SY', 'SZ', 'TC', 'TD', 'TF', 'TJ', 'TK', 'TL', 'TM', 'TO', 'TT', 'TV', 'TZ', 'UM', 'UZ', 'VA', 'VC', 'VE', 'VG', 'VI', 'VU', 'WF', 'WS', 'XK', 'YE', 'YT'] count:143"
   ]
  },
  {
   "cell_type": "code",
   "execution_count": 508,
   "metadata": {},
   "outputs": [],
   "source": [
    "all_loc_keys_tested = df_pivot_tested.columns\n",
    "len_keys = len(all_loc_keys_tested)\n",
    "df_clean_tested = df_pivot_tested\n",
    "for key in all_loc_keys_tested:\n",
    "    if df_clean_tested[key].isna().sum() == df_clean_tested.shape[0]:\n",
    "        df_clean_tested = df_clean_tested.drop(columns=key)\n",
    "df_cleaned_tested = df_clean_tested.fillna(0)\n",
    "# df_cleaned_tested"
   ]
  },
  {
   "cell_type": "code",
   "execution_count": 509,
   "metadata": {},
   "outputs": [],
   "source": [
    "# Calculating Infection rates for all location keys\n",
    "infection_rate = df_cleaned.sum(axis = 0) / df_cleaned.shape[0]\n",
    "infection_rate = infection_rate.to_frame(name = \"infection rate\")\n",
    "\n",
    "infection_rate_test = pd.DataFrame()\n",
    "infection_rate_test = infection_rate\n",
    "\n",
    "infection_rate_test['location_key'] = infection_rate.index\n",
    "infection_rate_test.reset_index(drop=True, inplace=True)\n",
    "\n",
    "# infection_rate_test"
   ]
  },
  {
   "cell_type": "code",
   "execution_count": 510,
   "metadata": {},
   "outputs": [
    {
     "name": "stderr",
     "output_type": "stream",
     "text": [
      "/opt/conda/lib/python3.7/site-packages/ipykernel_launcher.py:7: SettingWithCopyWarning: \n",
      "A value is trying to be set on a copy of a slice from a DataFrame.\n",
      "Try using .loc[row_indexer,col_indexer] = value instead\n",
      "\n",
      "See the caveats in the documentation: https://pandas.pydata.org/pandas-docs/stable/user_guide/indexing.html#returning-a-view-versus-a-copy\n",
      "  import sys\n"
     ]
    }
   ],
   "source": [
    "# Infection_rate vs Population. preparation for ploting\n",
    "\n",
    "merged_inner = pd.merge(left=infection_rate_test, right=df_pop, left_on='location_key', right_on='key')\n",
    "\n",
    "new_final = merged_inner[['infection rate','location_key','population']]\n",
    "\n",
    "new_final['country'] = new_final['location_key'].map(countries) \n",
    "\n",
    "new_final = new_final.astype({\"population\":int}) \n",
    "\n",
    "zoomed = new_final.loc[(new_final['population']<400000000) & (new_final['infection rate']<10000)]\n",
    "zoomed = zoomed.sort_values(\"infection rate\", ascending=False)\n",
    "\n",
    "new_final = new_final.rename(columns={\"infection rate\": \"infection_rate\"})\n",
    "new_final['infection_rate'] = round(new_final['infection_rate'], 2)"
   ]
  },
  {
   "cell_type": "code",
   "execution_count": 511,
   "metadata": {},
   "outputs": [
    {
     "data": {
      "text/html": [
       "<div>\n",
       "<style scoped>\n",
       "    .dataframe tbody tr th:only-of-type {\n",
       "        vertical-align: middle;\n",
       "    }\n",
       "\n",
       "    .dataframe tbody tr th {\n",
       "        vertical-align: top;\n",
       "    }\n",
       "\n",
       "    .dataframe thead th {\n",
       "        text-align: right;\n",
       "    }\n",
       "</style>\n",
       "<table border=\"1\" class=\"dataframe\">\n",
       "  <thead>\n",
       "    <tr style=\"text-align: right;\">\n",
       "      <th></th>\n",
       "      <th>infection_rate</th>\n",
       "      <th>location_key</th>\n",
       "      <th>population</th>\n",
       "      <th>country</th>\n",
       "    </tr>\n",
       "  </thead>\n",
       "  <tbody>\n",
       "    <tr>\n",
       "      <th>0</th>\n",
       "      <td>42.10</td>\n",
       "      <td>NaN</td>\n",
       "      <td>2494530</td>\n",
       "      <td>Namibia</td>\n",
       "    </tr>\n",
       "    <tr>\n",
       "      <th>1</th>\n",
       "      <td>16.57</td>\n",
       "      <td>AD</td>\n",
       "      <td>77142</td>\n",
       "      <td>Andorra</td>\n",
       "    </tr>\n",
       "    <tr>\n",
       "      <th>2</th>\n",
       "      <td>447.24</td>\n",
       "      <td>AE</td>\n",
       "      <td>9770529</td>\n",
       "      <td>United Arab Emirates</td>\n",
       "    </tr>\n",
       "    <tr>\n",
       "      <th>3</th>\n",
       "      <td>135.45</td>\n",
       "      <td>AF</td>\n",
       "      <td>38041754</td>\n",
       "      <td>Afghanistan</td>\n",
       "    </tr>\n",
       "    <tr>\n",
       "      <th>4</th>\n",
       "      <td>0.44</td>\n",
       "      <td>AG</td>\n",
       "      <td>97118</td>\n",
       "      <td>Antigua and Barbuda</td>\n",
       "    </tr>\n",
       "    <tr>\n",
       "      <th>...</th>\n",
       "      <td>...</td>\n",
       "      <td>...</td>\n",
       "      <td>...</td>\n",
       "      <td>...</td>\n",
       "    </tr>\n",
       "    <tr>\n",
       "      <th>229</th>\n",
       "      <td>6.67</td>\n",
       "      <td>YE</td>\n",
       "      <td>29161922</td>\n",
       "      <td>Yemen</td>\n",
       "    </tr>\n",
       "    <tr>\n",
       "      <th>230</th>\n",
       "      <td>14.68</td>\n",
       "      <td>YT</td>\n",
       "      <td>256518</td>\n",
       "      <td>Mayotte</td>\n",
       "    </tr>\n",
       "    <tr>\n",
       "      <th>231</th>\n",
       "      <td>2362.68</td>\n",
       "      <td>ZA</td>\n",
       "      <td>58558270</td>\n",
       "      <td>South Africa</td>\n",
       "    </tr>\n",
       "    <tr>\n",
       "      <th>232</th>\n",
       "      <td>54.12</td>\n",
       "      <td>ZM</td>\n",
       "      <td>17861030</td>\n",
       "      <td>Zambia</td>\n",
       "    </tr>\n",
       "    <tr>\n",
       "      <th>233</th>\n",
       "      <td>27.25</td>\n",
       "      <td>ZW</td>\n",
       "      <td>14645468</td>\n",
       "      <td>Zimbabwe</td>\n",
       "    </tr>\n",
       "  </tbody>\n",
       "</table>\n",
       "<p>234 rows × 4 columns</p>\n",
       "</div>"
      ],
      "text/plain": [
       "     infection_rate location_key  population               country\n",
       "0             42.10          NaN     2494530               Namibia\n",
       "1             16.57           AD       77142               Andorra\n",
       "2            447.24           AE     9770529  United Arab Emirates\n",
       "3            135.45           AF    38041754           Afghanistan\n",
       "4              0.44           AG       97118   Antigua and Barbuda\n",
       "..              ...          ...         ...                   ...\n",
       "229            6.67           YE    29161922                 Yemen\n",
       "230           14.68           YT      256518               Mayotte\n",
       "231         2362.68           ZA    58558270          South Africa\n",
       "232           54.12           ZM    17861030                Zambia\n",
       "233           27.25           ZW    14645468              Zimbabwe\n",
       "\n",
       "[234 rows x 4 columns]"
      ]
     },
     "execution_count": 511,
     "metadata": {},
     "output_type": "execute_result"
    }
   ],
   "source": [
    "new_final"
   ]
  },
  {
   "cell_type": "code",
   "execution_count": 512,
   "metadata": {},
   "outputs": [
    {
     "name": "stderr",
     "output_type": "stream",
     "text": [
      "1it [00:05,  5.54s/it]\n"
     ]
    }
   ],
   "source": [
    "from datalab.context import Context\n",
    "new_final.to_gbq('covid19_open_data.infection_rate', \n",
    "                           'seraphic-being-294617',\n",
    "#                  Context.default().project_id,\n",
    "                         chunksize=10000, \n",
    "                         if_exists='replace'\n",
    "                         )"
   ]
  },
  {
   "cell_type": "code",
   "execution_count": 513,
   "metadata": {},
   "outputs": [
    {
     "data": {
      "image/png": "[encoded data removed]",
      "text/plain": [
       "<Figure size 1440x1440 with 1 Axes>"
      ]
     },
     "metadata": {
      "needs_background": "light"
     },
     "output_type": "display_data"
    }
   ],
   "source": [
    "import matplotlib.pyplot as plt\n",
    "\n",
    "# x = np.log(new_final['population'])\n",
    "# y = np.log(new_final['infection rate'])\n",
    "x = new_final['population']\n",
    "y = new_final['infection_rate']\n",
    "lab = new_final['country']\n",
    "\n",
    "fig, ax = plt.subplots(figsize=(20,20))\n",
    "ax.scatter(x, y)\n",
    "\n",
    "# ax = plt.subplot(212)\n",
    "ax.set_xlabel('Population(in Billion)', fontsize=14)\n",
    "ax.set_ylabel('Infection_rate (avg infection/day)', fontsize=14)\n",
    "ax.set_title('Infection_rate VS Population', fontsize=18)\n",
    "\n",
    "\n",
    "for i, txt in enumerate(lab):\n",
    "    ax.annotate(txt, (x[i], y[i]), xytext=(10,10), textcoords='offset points')\n",
    "    plt.scatter(x, y, marker='x', color='red')\n",
    "\n",
    "plt.grid()\n",
    "plt.show()\n",
    "# plt.figsize(20,20)\n",
    "# new_final.plot.scatter(x='population', y='infection rate', label='country', figsize=(16, 16));"
   ]
  },
  {
   "cell_type": "code",
   "execution_count": 514,
   "metadata": {},
   "outputs": [
    {
     "data": {
      "image/png": "[encoded data removed]",
      "text/plain": [
       "<Figure size 1440x1440 with 1 Axes>"
      ]
     },
     "metadata": {
      "needs_background": "light"
     },
     "output_type": "display_data"
    }
   ],
   "source": [
    "import matplotlib.pyplot as plt\n",
    "x1 = zoomed['population']\n",
    "y1 = zoomed['infection rate']\n",
    "lab1 = zoomed['country']\n",
    "\n",
    "fig1, ax1 = plt.subplots(figsize=(20,20))\n",
    "ax1.scatter(x1, y1)\n",
    "\n",
    "# ax1 = plt.subplot(212)\n",
    "ax1.set_xlabel('Population(in Millions)', fontsize=14)\n",
    "ax1.set_ylabel('Infection_rate (avg infection/day)', fontsize=14)\n",
    "ax1.set_title('Infection_rate VS Population', fontsize=18)\n",
    "\n",
    "\n",
    "for i, txt1 in enumerate(lab1):\n",
    "#     print(txt1)\n",
    "    ax.annotate(txt1, (x[i], y[i]), xytext=(10,10),textcoords='offset points')\n",
    "    plt.scatter(x1, y1, marker='x', color='green')\n",
    "\n",
    "plt.grid()\n",
    "plt.show()"
   ]
  },
  {
   "cell_type": "code",
   "execution_count": 515,
   "metadata": {},
   "outputs": [],
   "source": [
    "# Calculating total testing for all location keys\n",
    "total_testing = df_cleaned_tested.sum(axis = 0)\n",
    "total_testing = total_testing.to_frame(name = \"Total_testings\")\n",
    "\n",
    "total_testing_test = pd.DataFrame()\n",
    "total_testing_test = total_testing\n",
    "\n",
    "total_testing_test['location_key'] = total_testing_test.index\n",
    "total_testing_test.reset_index(drop=True, inplace=True)\n",
    "\n",
    "# total_testing_test"
   ]
  },
  {
   "cell_type": "code",
   "execution_count": 516,
   "metadata": {},
   "outputs": [],
   "source": [
    "df_pivot_tested_cumu = df.pivot(index='date', columns=[\"location_key\"],values='cumulative_tested')\n",
    "\n",
    "all_loc_keys_tested_cumu = df_pivot_tested_cumu.columns\n",
    "len_keys_cumu = len(all_loc_keys_tested_cumu)\n",
    "df_clean_tested_cumu = df_pivot_tested_cumu\n",
    "for key in all_loc_keys_tested_cumu:\n",
    "    if df_clean_tested_cumu[key].isna().sum() == df_clean_tested_cumu.shape[0]:\n",
    "        df_clean_tested_cumu = df_clean_tested_cumu.drop(columns=key)\n",
    "df_cleaned_tested_cumu = df_clean_tested_cumu.fillna(0)\n",
    "# df_cleaned_tested_cumu"
   ]
  },
  {
   "cell_type": "code",
   "execution_count": 517,
   "metadata": {},
   "outputs": [
    {
     "data": {
      "text/plain": [
       "14137717"
      ]
     },
     "execution_count": 517,
     "metadata": {},
     "output_type": "execute_result"
    }
   ],
   "source": [
    "loc_list = df_cleaned_tested_cumu.columns\n",
    "max_list=[]\n",
    "for items in loc_list:\n",
    "    max_list.append(max(df_cleaned_tested_cumu[items]))\n",
    "loc_cumu_max = dict(zip(loc_list, max_list))\n",
    "for keys in loc_cumu_max:\n",
    "    loc_cumu_max[keys] = int(loc_cumu_max[keys])\n",
    "loc_cumu_max['AE']"
   ]
  },
  {
   "cell_type": "code",
   "execution_count": 518,
   "metadata": {},
   "outputs": [
    {
     "name": "stdout",
     "output_type": "stream",
     "text": [
      "{nan: 131715, 'AE': 14137717, 'AR': 2512406, 'AT': 2452692, 'AU': 9097814, 'BD': 2429010, 'BE': 5281944, 'BG': 793277, 'BH': 1823595, 'BO': 335456, 'BR': 6421441, 'BY': 2573132, 'CA': 9884582, 'CH': 2157721, 'CI': 197091, 'CL': 0, 'CN': 160000000, 'CO': 4240181, 'CR': 242306, 'CU': 909632, 'CY': 503927, 'CZ': 2584114, 'DE': 23393311, 'DK': 5569081, 'DO': 616366, 'EC': 512577, 'EE': 280693, 'ET': 1526221, 'FI': 1619634, 'FJ': 13535, 'FR': 17891276, 'GB': 35600586, 'GH': 543316, 'GR': 1941656, 'GT': 451070, 'HK': 3753969, 'HR': 559016, 'HU': 1209151, 'ID': 3080718, 'IE': 1715684, 'IL': 4918243, 'IN': 117736791, 'IQ': 2970814, 'IR': 5224252, 'IS': 194748, 'IT': 17183569, 'JM': 99548, 'JO': 2003989, 'JP': 3239618, 'KE': 730363, 'KR': 2677232, 'KW': 955447, 'KZ': 3754917, 'LI': 900, 'LK': 590435, 'LT': 1080306, 'LU': 1131669, 'LV': 497949, 'MA': 3451451, 'MG': 87659, 'MK': 271599, 'MM': 317765, 'MR': 88310, 'MT': 251746, 'MV': 208105, 'MW': 65901, 'MX': 2116581, 'MY': 2238559, 'MZ': 196793, 'NG': 686395, 'NL': 2692871, 'NO': 1782611, 'NP': 1507190, 'NZ': 1132820, 'PA': 690678, 'PE': 630521, 'PH': 4751099, 'PK': 4676263, 'PL': 4919545, 'PT': 3482414, 'PY': 377309, 'QA': 1015828, 'RO': 3341867, 'RS': 1421154, 'RU': 64682511, 'RW': 568868, 'SA': 8494327, 'SG': 3879052, 'SI': 402703, 'SK': 901327, 'SN': 221850, 'SV': 478223, 'TG': 126869, 'TH': 1090380, 'TN': 225033, 'TR': 15127811, 'TW': 104017, 'UA': 3613899, 'UG': 563835, 'US': 157290087, 'UY': 344350, 'VN': 1260799, 'ZA': 4963174, 'ZM': 297999, 'ZW': 145800}\n"
     ]
    }
   ],
   "source": [
    "print(loc_cumu_max)"
   ]
  },
  {
   "cell_type": "code",
   "execution_count": 519,
   "metadata": {},
   "outputs": [
    {
     "data": {
      "text/html": [
       "<div>\n",
       "<style scoped>\n",
       "    .dataframe tbody tr th:only-of-type {\n",
       "        vertical-align: middle;\n",
       "    }\n",
       "\n",
       "    .dataframe tbody tr th {\n",
       "        vertical-align: top;\n",
       "    }\n",
       "\n",
       "    .dataframe thead th {\n",
       "        text-align: right;\n",
       "    }\n",
       "</style>\n",
       "<table border=\"1\" class=\"dataframe\">\n",
       "  <thead>\n",
       "    <tr style=\"text-align: right;\">\n",
       "      <th></th>\n",
       "      <th>Total_testings</th>\n",
       "      <th>location_key</th>\n",
       "      <th>infection_rate</th>\n",
       "      <th>population</th>\n",
       "      <th>country</th>\n",
       "    </tr>\n",
       "  </thead>\n",
       "  <tbody>\n",
       "    <tr>\n",
       "      <th>0</th>\n",
       "      <td>14137717.0</td>\n",
       "      <td>AE</td>\n",
       "      <td>447.24</td>\n",
       "      <td>9770529</td>\n",
       "      <td>United Arab Emirates</td>\n",
       "    </tr>\n",
       "    <tr>\n",
       "      <th>1</th>\n",
       "      <td>2512406.0</td>\n",
       "      <td>AR</td>\n",
       "      <td>3925.87</td>\n",
       "      <td>44938712</td>\n",
       "      <td>Argentina</td>\n",
       "    </tr>\n",
       "    <tr>\n",
       "      <th>2</th>\n",
       "      <td>2452692.0</td>\n",
       "      <td>AT</td>\n",
       "      <td>426.71</td>\n",
       "      <td>8858775</td>\n",
       "      <td>Austria</td>\n",
       "    </tr>\n",
       "    <tr>\n",
       "      <th>3</th>\n",
       "      <td>9097814.0</td>\n",
       "      <td>AU</td>\n",
       "      <td>89.14</td>\n",
       "      <td>25364307</td>\n",
       "      <td>Australia</td>\n",
       "    </tr>\n",
       "    <tr>\n",
       "      <th>4</th>\n",
       "      <td>2429010.0</td>\n",
       "      <td>BD</td>\n",
       "      <td>1341.98</td>\n",
       "      <td>163046161</td>\n",
       "      <td>Bangladesh</td>\n",
       "    </tr>\n",
       "  </tbody>\n",
       "</table>\n",
       "</div>"
      ],
      "text/plain": [
       "   Total_testings location_key  infection_rate  population  \\\n",
       "0      14137717.0           AE          447.24     9770529   \n",
       "1       2512406.0           AR         3925.87    44938712   \n",
       "2       2452692.0           AT          426.71     8858775   \n",
       "3       9097814.0           AU           89.14    25364307   \n",
       "4       2429010.0           BD         1341.98   163046161   \n",
       "\n",
       "                country  \n",
       "0  United Arab Emirates  \n",
       "1             Argentina  \n",
       "2               Austria  \n",
       "3             Australia  \n",
       "4            Bangladesh  "
      ]
     },
     "execution_count": 519,
     "metadata": {},
     "output_type": "execute_result"
    }
   ],
   "source": [
    "merged_inner_tested.head()"
   ]
  },
  {
   "cell_type": "code",
   "execution_count": 520,
   "metadata": {},
   "outputs": [
    {
     "name": "stderr",
     "output_type": "stream",
     "text": [
      "/opt/conda/lib/python3.7/site-packages/ipykernel_launcher.py:8: SettingWithCopyWarning: \n",
      "A value is trying to be set on a copy of a slice from a DataFrame\n",
      "\n",
      "See the caveats in the documentation: https://pandas.pydata.org/pandas-docs/stable/user_guide/indexing.html#returning-a-view-versus-a-copy\n",
      "  \n"
     ]
    }
   ],
   "source": [
    "# Infection_rate vs rating. preparation for ploting\n",
    "# merged_inner_tested = merged_inner_tested.astype({\"Total_testings\":int}) \n",
    "merged_inner_tested = pd.merge(left=total_testing_test, right=new_final, left_on='location_key', right_on='location_key',how=\"outer\")\n",
    "# merged_inner_tested['Total_testings'] = \n",
    "\n",
    "for ind, loc in enumerate(merged_inner_tested.location_key):\n",
    "    try:\n",
    "        merged_inner_tested['Total_testings'][ind] = max(merged_inner_tested['Total_testings'][ind], loc_cumu_max[loc])\n",
    "    except KeyError:\n",
    "        continue\n",
    "# new_final = merged_inner[['infection rate','location_key','population']]\n",
    "\n",
    "# new_final['country'] = new_final['location_key'].map(countries) \n",
    "\n",
    "\n",
    "\n",
    "# zoomed = new_final.loc[(new_final['population']<400000000) & (new_final['infection rate']<10000)]\n",
    "# zoomed = zoomed.sort_values(\"infection rate\", ascending=False)\n",
    "\n",
    "# new_final"
   ]
  },
  {
   "cell_type": "code",
   "execution_count": 521,
   "metadata": {},
   "outputs": [],
   "source": [
    "# merged_inner_tested[20:40]\n",
    "merged_inner_tested = merged_inner_tested.rename(columns={\"infection rate\": \"infection_rate\"})\n",
    "merged_inner_tested['infection_rate'] = round(merged_inner_tested['infection_rate'],2)\n",
    "merged_inner_tested['population'] = merged_inner_tested['population'].astype(float)\n",
    "# merged_inner_tested['population'] = merged_inner_tested['population'].astype(int)"
   ]
  },
  {
   "cell_type": "code",
   "execution_count": 522,
   "metadata": {},
   "outputs": [],
   "source": [
    "# merged_inner_tested[merged_inner_tested['location_key'].str.contains('CN')]\n",
    "merged_inner_tested['population'] = merged_inner_tested['population'].fillna(0)\n",
    "merged_inner_tested['population'] = merged_inner_tested['population'].astype(int)"
   ]
  },
  {
   "cell_type": "code",
   "execution_count": 523,
   "metadata": {},
   "outputs": [
    {
     "data": {
      "text/plain": [
       "0"
      ]
     },
     "execution_count": 523,
     "metadata": {},
     "output_type": "execute_result"
    }
   ],
   "source": [
    "merged_inner_tested['population'].isna().sum()"
   ]
  },
  {
   "cell_type": "code",
   "execution_count": 524,
   "metadata": {},
   "outputs": [
    {
     "name": "stdout",
     "output_type": "stream",
     "text": [
      "<class 'pandas.core.frame.DataFrame'>\n",
      "Int64Index: 234 entries, 0 to 233\n",
      "Data columns (total 5 columns):\n",
      " #   Column          Non-Null Count  Dtype  \n",
      "---  ------          --------------  -----  \n",
      " 0   Total_testings  104 non-null    float64\n",
      " 1   location_key    233 non-null    object \n",
      " 2   infection_rate  234 non-null    float64\n",
      " 3   population      234 non-null    int64  \n",
      " 4   country         234 non-null    object \n",
      "dtypes: float64(2), int64(1), object(2)\n",
      "memory usage: 21.0+ KB\n"
     ]
    }
   ],
   "source": [
    "merged_inner_tested.info()"
   ]
  },
  {
   "cell_type": "code",
   "execution_count": 525,
   "metadata": {},
   "outputs": [
    {
     "name": "stderr",
     "output_type": "stream",
     "text": [
      "1it [00:05,  5.83s/it]\n"
     ]
    }
   ],
   "source": [
    "# pip install datalab\n",
    "from datalab.context import Context\n",
    "merged_inner_tested.to_gbq('covid19_open_data.infection_rate_VS_testing', \n",
    "                           'seraphic-being-294617',\n",
    "#                  Context.default().project_id,\n",
    "                         chunksize=10000, \n",
    "                         if_exists='replace'\n",
    "                         )"
   ]
  },
  {
   "cell_type": "code",
   "execution_count": 526,
   "metadata": {},
   "outputs": [
    {
     "name": "stdout",
     "output_type": "stream",
     "text": [
      "<class 'pandas.core.frame.DataFrame'>\n",
      "Int64Index: 234 entries, 0 to 233\n",
      "Data columns (total 5 columns):\n",
      " #   Column          Non-Null Count  Dtype  \n",
      "---  ------          --------------  -----  \n",
      " 0   Total_testings  104 non-null    float64\n",
      " 1   location_key    233 non-null    object \n",
      " 2   infection_rate  234 non-null    float64\n",
      " 3   population      234 non-null    int64  \n",
      " 4   country         234 non-null    object \n",
      "dtypes: float64(2), int64(1), object(2)\n",
      "memory usage: 21.0+ KB\n"
     ]
    }
   ],
   "source": [
    "# pip install pandas-gbq\n",
    "merged_inner_tested.info()\n",
    "# merged_inner_tested['location_key'][:1]"
   ]
  },
  {
   "cell_type": "code",
   "execution_count": 527,
   "metadata": {},
   "outputs": [],
   "source": [
    "# from datalab.context import Context\n",
    "# merged_inner_tested.to_gbq('covid19_open_data.infection_rate', \n",
    "#                            'seraphic-being-294617',\n",
    "# #                  Context.default().project_id,\n",
    "#                          chunksize=10000, \n",
    "#                          if_exists='replace'\n",
    "#                          )"
   ]
  },
  {
   "cell_type": "code",
   "execution_count": 528,
   "metadata": {},
   "outputs": [
    {
     "data": {
      "image/png": "[encoded data removed]",
      "text/plain": [
       "<Figure size 1440x1440 with 1 Axes>"
      ]
     },
     "metadata": {
      "needs_background": "light"
     },
     "output_type": "display_data"
    }
   ],
   "source": [
    "import matplotlib.pyplot as plt\n",
    "\n",
    "# x = np.log(new_final['population'])\n",
    "# y = np.log(new_final['infection rate'])\n",
    "x = merged_inner_tested['Total_testings']\n",
    "y= merged_inner_tested['infection_rate']\n",
    "lab = merged_inner_tested['country']\n",
    "\n",
    "fig, ax = plt.subplots(figsize=(20,20))\n",
    "ax.scatter(x, y)\n",
    "\n",
    "# ax = plt.subplot(212)\n",
    "ax.set_xlabel('Total testing (hundred million)', fontsize=14)\n",
    "ax.set_ylabel('Infection_rate (avg infection/day)', fontsize=14)\n",
    "ax.set_title('Infection_rate VS Total testing', fontsize=18)\n",
    "\n",
    "\n",
    "for i, txt in enumerate(lab):\n",
    "    ax.annotate(txt, (x[i], y[i]), xytext=(10,10), textcoords='offset points')\n",
    "    plt.scatter(x, y, marker='x', color='red')\n",
    "\n",
    "plt.grid()\n",
    "plt.show()"
   ]
  },
  {
   "cell_type": "code",
   "execution_count": 529,
   "metadata": {},
   "outputs": [],
   "source": [
    "# client = bigquery.Client()\n",
    "# sql1 = \"\"\"SELECT * from covid19_open_data.Demographics order by key\"\"\"\n",
    "# df_pop = client.query(sql1).to_dataframe()\n",
    "# writer = ExcelWriter(data_path + \"/\" + \"Demographics.xlsx\")\n",
    "# df_pop.to_excel(writer, sheet_name='Sheet1')\n",
    "# writer.save()"
   ]
  },
  {
   "cell_type": "code",
   "execution_count": 530,
   "metadata": {},
   "outputs": [
    {
     "data": {
      "text/html": [
       "<div>\n",
       "<style scoped>\n",
       "    .dataframe tbody tr th:only-of-type {\n",
       "        vertical-align: middle;\n",
       "    }\n",
       "\n",
       "    .dataframe tbody tr th {\n",
       "        vertical-align: top;\n",
       "    }\n",
       "\n",
       "    .dataframe thead th {\n",
       "        text-align: right;\n",
       "    }\n",
       "</style>\n",
       "<table border=\"1\" class=\"dataframe\">\n",
       "  <thead>\n",
       "    <tr style=\"text-align: right;\">\n",
       "      <th></th>\n",
       "      <th>int64_field_0</th>\n",
       "      <th>key</th>\n",
       "      <th>population</th>\n",
       "      <th>population_male</th>\n",
       "      <th>population_female</th>\n",
       "      <th>rural_population</th>\n",
       "      <th>urban_population</th>\n",
       "      <th>largest_city_population</th>\n",
       "      <th>clustered_population</th>\n",
       "      <th>population_density</th>\n",
       "      <th>...</th>\n",
       "      <th>population_age_10_19</th>\n",
       "      <th>population_age_20_29</th>\n",
       "      <th>population_age_30_39</th>\n",
       "      <th>population_age_40_49</th>\n",
       "      <th>population_age_50_59</th>\n",
       "      <th>population_age_60_69</th>\n",
       "      <th>population_age_70_79</th>\n",
       "      <th>population_age_80_89</th>\n",
       "      <th>population_age_90_99</th>\n",
       "      <th>population_age_80_and_older</th>\n",
       "    </tr>\n",
       "  </thead>\n",
       "  <tbody>\n",
       "    <tr>\n",
       "      <th>0</th>\n",
       "      <td>11802</td>\n",
       "      <td>None</td>\n",
       "      <td>2494530.0</td>\n",
       "      <td>1208865.0</td>\n",
       "      <td>1285665.0</td>\n",
       "      <td>1221272.0</td>\n",
       "      <td>1273258.0</td>\n",
       "      <td>417380.0</td>\n",
       "      <td>NaN</td>\n",
       "      <td>2.973746</td>\n",
       "      <td>...</td>\n",
       "      <td>489521.0</td>\n",
       "      <td>480544.0</td>\n",
       "      <td>357165.0</td>\n",
       "      <td>234870.0</td>\n",
       "      <td>146762.0</td>\n",
       "      <td>84248.0</td>\n",
       "      <td>39007.0</td>\n",
       "      <td>9049.0</td>\n",
       "      <td>2262.0</td>\n",
       "      <td>11312.0</td>\n",
       "    </tr>\n",
       "    <tr>\n",
       "      <th>1</th>\n",
       "      <td>0</td>\n",
       "      <td>AD</td>\n",
       "      <td>77142.0</td>\n",
       "      <td>58625.0</td>\n",
       "      <td>55581.0</td>\n",
       "      <td>9269.0</td>\n",
       "      <td>67873.0</td>\n",
       "      <td>NaN</td>\n",
       "      <td>NaN</td>\n",
       "      <td>163.842553</td>\n",
       "      <td>...</td>\n",
       "      <td>12022.0</td>\n",
       "      <td>10727.0</td>\n",
       "      <td>12394.0</td>\n",
       "      <td>21001.0</td>\n",
       "      <td>20720.0</td>\n",
       "      <td>14433.0</td>\n",
       "      <td>8657.0</td>\n",
       "      <td>3904.0</td>\n",
       "      <td>976.0</td>\n",
       "      <td>4881.0</td>\n",
       "    </tr>\n",
       "    <tr>\n",
       "      <th>2</th>\n",
       "      <td>1</td>\n",
       "      <td>AE</td>\n",
       "      <td>9770529.0</td>\n",
       "      <td>6766808.0</td>\n",
       "      <td>3003721.0</td>\n",
       "      <td>1290785.0</td>\n",
       "      <td>8479744.0</td>\n",
       "      <td>2833079.0</td>\n",
       "      <td>5914068.0</td>\n",
       "      <td>135.609110</td>\n",
       "      <td>...</td>\n",
       "      <td>786876.0</td>\n",
       "      <td>1841983.0</td>\n",
       "      <td>2722996.0</td>\n",
       "      <td>1907265.0</td>\n",
       "      <td>889205.0</td>\n",
       "      <td>225625.0</td>\n",
       "      <td>58028.0</td>\n",
       "      <td>9915.0</td>\n",
       "      <td>2478.0</td>\n",
       "      <td>12394.0</td>\n",
       "    </tr>\n",
       "    <tr>\n",
       "      <th>3</th>\n",
       "      <td>2</td>\n",
       "      <td>AF</td>\n",
       "      <td>38041754.0</td>\n",
       "      <td>19529725.0</td>\n",
       "      <td>18512029.0</td>\n",
       "      <td>28244481.0</td>\n",
       "      <td>9797273.0</td>\n",
       "      <td>4114030.0</td>\n",
       "      <td>4114030.0</td>\n",
       "      <td>56.937760</td>\n",
       "      <td>...</td>\n",
       "      <td>7706599.0</td>\n",
       "      <td>5461114.0</td>\n",
       "      <td>3607808.0</td>\n",
       "      <td>2379338.0</td>\n",
       "      <td>1464078.0</td>\n",
       "      <td>834370.0</td>\n",
       "      <td>376098.0</td>\n",
       "      <td>66176.0</td>\n",
       "      <td>16544.0</td>\n",
       "      <td>82721.0</td>\n",
       "    </tr>\n",
       "    <tr>\n",
       "      <th>4</th>\n",
       "      <td>3</td>\n",
       "      <td>AF_BAL</td>\n",
       "      <td>1325700.0</td>\n",
       "      <td>NaN</td>\n",
       "      <td>NaN</td>\n",
       "      <td>NaN</td>\n",
       "      <td>NaN</td>\n",
       "      <td>NaN</td>\n",
       "      <td>NaN</td>\n",
       "      <td>NaN</td>\n",
       "      <td>...</td>\n",
       "      <td>NaN</td>\n",
       "      <td>NaN</td>\n",
       "      <td>NaN</td>\n",
       "      <td>NaN</td>\n",
       "      <td>NaN</td>\n",
       "      <td>NaN</td>\n",
       "      <td>NaN</td>\n",
       "      <td>NaN</td>\n",
       "      <td>NaN</td>\n",
       "      <td>NaN</td>\n",
       "    </tr>\n",
       "  </tbody>\n",
       "</table>\n",
       "<p>5 rows × 22 columns</p>\n",
       "</div>"
      ],
      "text/plain": [
       "   int64_field_0     key  population  population_male  population_female  \\\n",
       "0          11802    None   2494530.0        1208865.0          1285665.0   \n",
       "1              0      AD     77142.0          58625.0            55581.0   \n",
       "2              1      AE   9770529.0        6766808.0          3003721.0   \n",
       "3              2      AF  38041754.0       19529725.0         18512029.0   \n",
       "4              3  AF_BAL   1325700.0              NaN                NaN   \n",
       "\n",
       "   rural_population  urban_population  largest_city_population  \\\n",
       "0         1221272.0         1273258.0                 417380.0   \n",
       "1            9269.0           67873.0                      NaN   \n",
       "2         1290785.0         8479744.0                2833079.0   \n",
       "3        28244481.0         9797273.0                4114030.0   \n",
       "4               NaN               NaN                      NaN   \n",
       "\n",
       "   clustered_population  population_density  ...  population_age_10_19  \\\n",
       "0                   NaN            2.973746  ...              489521.0   \n",
       "1                   NaN          163.842553  ...               12022.0   \n",
       "2             5914068.0          135.609110  ...              786876.0   \n",
       "3             4114030.0           56.937760  ...             7706599.0   \n",
       "4                   NaN                 NaN  ...                   NaN   \n",
       "\n",
       "   population_age_20_29  population_age_30_39  population_age_40_49  \\\n",
       "0              480544.0              357165.0              234870.0   \n",
       "1               10727.0               12394.0               21001.0   \n",
       "2             1841983.0             2722996.0             1907265.0   \n",
       "3             5461114.0             3607808.0             2379338.0   \n",
       "4                   NaN                   NaN                   NaN   \n",
       "\n",
       "   population_age_50_59  population_age_60_69  population_age_70_79  \\\n",
       "0              146762.0               84248.0               39007.0   \n",
       "1               20720.0               14433.0                8657.0   \n",
       "2              889205.0              225625.0               58028.0   \n",
       "3             1464078.0              834370.0              376098.0   \n",
       "4                   NaN                   NaN                   NaN   \n",
       "\n",
       "   population_age_80_89  population_age_90_99  population_age_80_and_older  \n",
       "0                9049.0                2262.0                      11312.0  \n",
       "1                3904.0                 976.0                       4881.0  \n",
       "2                9915.0                2478.0                      12394.0  \n",
       "3               66176.0               16544.0                      82721.0  \n",
       "4                   NaN                   NaN                          NaN  \n",
       "\n",
       "[5 rows x 22 columns]"
      ]
     },
     "execution_count": 530,
     "metadata": {},
     "output_type": "execute_result"
    }
   ],
   "source": [
    "df_pop.head()"
   ]
  },
  {
   "cell_type": "code",
   "execution_count": null,
   "metadata": {},
   "outputs": [],
   "source": []
  }
 ],
 "metadata": {
  "environment": {
   "name": "tf2-gpu.2-1.m58",
   "type": "gcloud",
   "uri": "gcr.io/deeplearning-platform-release/tf2-gpu.2-1:m58"
  },
  "kernelspec": {
   "display_name": "Python 3",
   "language": "python",
   "name": "python3"
  },
  "language_info": {
   "codemirror_mode": {
    "name": "ipython",
    "version": 3
   },
   "file_extension": ".py",
   "mimetype": "text/x-python",
   "name": "python",
   "nbconvert_exporter": "python",
   "pygments_lexer": "ipython3",
   "version": "3.7.8"
  }
 },
 "nbformat": 4,
 "nbformat_minor": 4
}
